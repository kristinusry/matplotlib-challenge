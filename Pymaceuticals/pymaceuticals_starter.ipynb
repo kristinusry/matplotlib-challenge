{
 "cells": [
  {
   "cell_type": "markdown",
   "metadata": {},
   "source": [
    "## Observations and Insights "
   ]
  },
  {
   "cell_type": "markdown",
   "metadata": {},
   "source": [
    "1. Capomulin and Ramicane were the most administered drug treatment.\n",
    "\n",
    "2. Ramicane appears to be the most successful at reducing tumor volume.\n",
    "\n",
    "3. The correlation between weight and average tumor volume with Capomulin is 0.84, indicating that when the mouse weight is higher so is the volume of their tumor.\n",
    "\n"
   ]
  },
  {
   "cell_type": "code",
   "execution_count": 106,
   "metadata": {},
   "outputs": [
    {
     "data": {
      "text/html": [
       "<div>\n",
       "<style scoped>\n",
       "    .dataframe tbody tr th:only-of-type {\n",
       "        vertical-align: middle;\n",
       "    }\n",
       "\n",
       "    .dataframe tbody tr th {\n",
       "        vertical-align: top;\n",
       "    }\n",
       "\n",
       "    .dataframe thead th {\n",
       "        text-align: right;\n",
       "    }\n",
       "</style>\n",
       "<table border=\"1\" class=\"dataframe\">\n",
       "  <thead>\n",
       "    <tr style=\"text-align: right;\">\n",
       "      <th></th>\n",
       "      <th>mouse_id</th>\n",
       "      <th>drug_regimen</th>\n",
       "      <th>Sex</th>\n",
       "      <th>Age_months</th>\n",
       "      <th>weight</th>\n",
       "      <th>Timepoint</th>\n",
       "      <th>tumor_volume</th>\n",
       "      <th>metastatic_sites</th>\n",
       "    </tr>\n",
       "  </thead>\n",
       "  <tbody>\n",
       "    <tr>\n",
       "      <th>0</th>\n",
       "      <td>k403</td>\n",
       "      <td>Ramicane</td>\n",
       "      <td>Male</td>\n",
       "      <td>21</td>\n",
       "      <td>16</td>\n",
       "      <td>0</td>\n",
       "      <td>45.00%</td>\n",
       "      <td>0</td>\n",
       "    </tr>\n",
       "    <tr>\n",
       "      <th>1</th>\n",
       "      <td>k403</td>\n",
       "      <td>Ramicane</td>\n",
       "      <td>Male</td>\n",
       "      <td>21</td>\n",
       "      <td>16</td>\n",
       "      <td>5</td>\n",
       "      <td>38.83%</td>\n",
       "      <td>0</td>\n",
       "    </tr>\n",
       "    <tr>\n",
       "      <th>2</th>\n",
       "      <td>k403</td>\n",
       "      <td>Ramicane</td>\n",
       "      <td>Male</td>\n",
       "      <td>21</td>\n",
       "      <td>16</td>\n",
       "      <td>10</td>\n",
       "      <td>35.01%</td>\n",
       "      <td>1</td>\n",
       "    </tr>\n",
       "    <tr>\n",
       "      <th>3</th>\n",
       "      <td>k403</td>\n",
       "      <td>Ramicane</td>\n",
       "      <td>Male</td>\n",
       "      <td>21</td>\n",
       "      <td>16</td>\n",
       "      <td>15</td>\n",
       "      <td>34.22%</td>\n",
       "      <td>1</td>\n",
       "    </tr>\n",
       "    <tr>\n",
       "      <th>4</th>\n",
       "      <td>k403</td>\n",
       "      <td>Ramicane</td>\n",
       "      <td>Male</td>\n",
       "      <td>21</td>\n",
       "      <td>16</td>\n",
       "      <td>20</td>\n",
       "      <td>33.00%</td>\n",
       "      <td>1</td>\n",
       "    </tr>\n",
       "  </tbody>\n",
       "</table>\n",
       "</div>"
      ],
      "text/plain": [
       "  mouse_id drug_regimen   Sex  Age_months  weight  Timepoint  tumor_volume  \\\n",
       "0     k403     Ramicane  Male          21      16          0        45.00%   \n",
       "1     k403     Ramicane  Male          21      16          5        38.83%   \n",
       "2     k403     Ramicane  Male          21      16         10        35.01%   \n",
       "3     k403     Ramicane  Male          21      16         15        34.22%   \n",
       "4     k403     Ramicane  Male          21      16         20        33.00%   \n",
       "\n",
       "   metastatic_sites  \n",
       "0                 0  \n",
       "1                 0  \n",
       "2                 1  \n",
       "3                 1  \n",
       "4                 1  "
      ]
     },
     "execution_count": 106,
     "metadata": {},
     "output_type": "execute_result"
    }
   ],
   "source": [
    "# Dependencies and Setup\n",
    "import matplotlib.pyplot as plt\n",
    "import pandas as pd\n",
    "import scipy.stats as st\n",
    "import numpy as np\n",
    "from scipy.stats import linregress\n",
    "\n",
    "# Study data files\n",
    "mouse_metadata_path = \"data/Mouse_metadata.csv\"\n",
    "study_results_path = \"data/Study_results.csv\"\n",
    "\n",
    "# Read the mouse data and the study results\n",
    "mouse_metadata = pd.read_csv(mouse_metadata_path)\n",
    "study_results = pd.read_csv(study_results_path)\n",
    "\n",
    "# Combine the data into a single dataset\n",
    "mouse_study_df = pd.merge(mouse_metadata, study_results, on=\"Mouse ID\")\n",
    "\n",
    "#Rename columns\n",
    "mouse_study_df = mouse_study_df.rename(columns={\"Mouse ID\":\"mouse_id\",\"Drug Regimen\":\"drug_regimen\",\"Weight (g)\":\"weight\",\"Tumor Volume (mm3)\":\"tumor_volume\",\"Metastatic Sites\":\"metastatic_sites\"})\n",
    "\n",
    "# Display the data table for preview\n",
    "mouse_study_df.head()"
   ]
  },
  {
   "cell_type": "code",
   "execution_count": 107,
   "metadata": {},
   "outputs": [
    {
     "data": {
      "text/plain": [
       "249"
      ]
     },
     "execution_count": 107,
     "metadata": {},
     "output_type": "execute_result"
    }
   ],
   "source": [
    "# Checking the number of mice.\n",
    "len(mouse_study_df.mouse_id.unique())"
   ]
  },
  {
   "cell_type": "code",
   "execution_count": 108,
   "metadata": {},
   "outputs": [
    {
     "data": {
      "text/plain": [
       "array(['g989'], dtype=object)"
      ]
     },
     "execution_count": 108,
     "metadata": {},
     "output_type": "execute_result"
    }
   ],
   "source": [
    "# Getting the duplicate mice by ID number that shows up for Mouse ID and Timepoint. \n",
    "duplicate_mouse = mouse_study_df.loc[mouse_study_df.duplicated(subset=[\"mouse_id\", \"Timepoint\"]),\"mouse_id\"].unique()\n",
    "duplicate_mouse"
   ]
  },
  {
   "cell_type": "code",
   "execution_count": 109,
   "metadata": {},
   "outputs": [
    {
     "data": {
      "text/html": [
       "<div>\n",
       "<style scoped>\n",
       "    .dataframe tbody tr th:only-of-type {\n",
       "        vertical-align: middle;\n",
       "    }\n",
       "\n",
       "    .dataframe tbody tr th {\n",
       "        vertical-align: top;\n",
       "    }\n",
       "\n",
       "    .dataframe thead th {\n",
       "        text-align: right;\n",
       "    }\n",
       "</style>\n",
       "<table border=\"1\" class=\"dataframe\">\n",
       "  <thead>\n",
       "    <tr style=\"text-align: right;\">\n",
       "      <th></th>\n",
       "      <th>mouse_id</th>\n",
       "      <th>drug_regimen</th>\n",
       "      <th>Sex</th>\n",
       "      <th>Age_months</th>\n",
       "      <th>weight</th>\n",
       "      <th>Timepoint</th>\n",
       "      <th>tumor_volume</th>\n",
       "      <th>metastatic_sites</th>\n",
       "    </tr>\n",
       "  </thead>\n",
       "  <tbody>\n",
       "    <tr>\n",
       "      <th>908</th>\n",
       "      <td>g989</td>\n",
       "      <td>Propriva</td>\n",
       "      <td>Female</td>\n",
       "      <td>21</td>\n",
       "      <td>26</td>\n",
       "      <td>0</td>\n",
       "      <td>45.00%</td>\n",
       "      <td>0</td>\n",
       "    </tr>\n",
       "    <tr>\n",
       "      <th>909</th>\n",
       "      <td>g989</td>\n",
       "      <td>Propriva</td>\n",
       "      <td>Female</td>\n",
       "      <td>21</td>\n",
       "      <td>26</td>\n",
       "      <td>0</td>\n",
       "      <td>45.00%</td>\n",
       "      <td>0</td>\n",
       "    </tr>\n",
       "    <tr>\n",
       "      <th>910</th>\n",
       "      <td>g989</td>\n",
       "      <td>Propriva</td>\n",
       "      <td>Female</td>\n",
       "      <td>21</td>\n",
       "      <td>26</td>\n",
       "      <td>5</td>\n",
       "      <td>48.79%</td>\n",
       "      <td>0</td>\n",
       "    </tr>\n",
       "    <tr>\n",
       "      <th>911</th>\n",
       "      <td>g989</td>\n",
       "      <td>Propriva</td>\n",
       "      <td>Female</td>\n",
       "      <td>21</td>\n",
       "      <td>26</td>\n",
       "      <td>5</td>\n",
       "      <td>47.57%</td>\n",
       "      <td>0</td>\n",
       "    </tr>\n",
       "    <tr>\n",
       "      <th>912</th>\n",
       "      <td>g989</td>\n",
       "      <td>Propriva</td>\n",
       "      <td>Female</td>\n",
       "      <td>21</td>\n",
       "      <td>26</td>\n",
       "      <td>10</td>\n",
       "      <td>51.75%</td>\n",
       "      <td>0</td>\n",
       "    </tr>\n",
       "    <tr>\n",
       "      <th>913</th>\n",
       "      <td>g989</td>\n",
       "      <td>Propriva</td>\n",
       "      <td>Female</td>\n",
       "      <td>21</td>\n",
       "      <td>26</td>\n",
       "      <td>10</td>\n",
       "      <td>49.88%</td>\n",
       "      <td>0</td>\n",
       "    </tr>\n",
       "    <tr>\n",
       "      <th>914</th>\n",
       "      <td>g989</td>\n",
       "      <td>Propriva</td>\n",
       "      <td>Female</td>\n",
       "      <td>21</td>\n",
       "      <td>26</td>\n",
       "      <td>15</td>\n",
       "      <td>51.33%</td>\n",
       "      <td>1</td>\n",
       "    </tr>\n",
       "    <tr>\n",
       "      <th>915</th>\n",
       "      <td>g989</td>\n",
       "      <td>Propriva</td>\n",
       "      <td>Female</td>\n",
       "      <td>21</td>\n",
       "      <td>26</td>\n",
       "      <td>15</td>\n",
       "      <td>53.44%</td>\n",
       "      <td>0</td>\n",
       "    </tr>\n",
       "    <tr>\n",
       "      <th>916</th>\n",
       "      <td>g989</td>\n",
       "      <td>Propriva</td>\n",
       "      <td>Female</td>\n",
       "      <td>21</td>\n",
       "      <td>26</td>\n",
       "      <td>20</td>\n",
       "      <td>55.33%</td>\n",
       "      <td>1</td>\n",
       "    </tr>\n",
       "    <tr>\n",
       "      <th>917</th>\n",
       "      <td>g989</td>\n",
       "      <td>Propriva</td>\n",
       "      <td>Female</td>\n",
       "      <td>21</td>\n",
       "      <td>26</td>\n",
       "      <td>20</td>\n",
       "      <td>54.66%</td>\n",
       "      <td>1</td>\n",
       "    </tr>\n",
       "    <tr>\n",
       "      <th>918</th>\n",
       "      <td>g989</td>\n",
       "      <td>Propriva</td>\n",
       "      <td>Female</td>\n",
       "      <td>21</td>\n",
       "      <td>26</td>\n",
       "      <td>25</td>\n",
       "      <td>56.05%</td>\n",
       "      <td>1</td>\n",
       "    </tr>\n",
       "    <tr>\n",
       "      <th>919</th>\n",
       "      <td>g989</td>\n",
       "      <td>Propriva</td>\n",
       "      <td>Female</td>\n",
       "      <td>21</td>\n",
       "      <td>26</td>\n",
       "      <td>30</td>\n",
       "      <td>59.08%</td>\n",
       "      <td>1</td>\n",
       "    </tr>\n",
       "    <tr>\n",
       "      <th>920</th>\n",
       "      <td>g989</td>\n",
       "      <td>Propriva</td>\n",
       "      <td>Female</td>\n",
       "      <td>21</td>\n",
       "      <td>26</td>\n",
       "      <td>35</td>\n",
       "      <td>62.57%</td>\n",
       "      <td>2</td>\n",
       "    </tr>\n",
       "  </tbody>\n",
       "</table>\n",
       "</div>"
      ],
      "text/plain": [
       "    mouse_id drug_regimen     Sex  Age_months  weight  Timepoint  \\\n",
       "908     g989     Propriva  Female          21      26          0   \n",
       "909     g989     Propriva  Female          21      26          0   \n",
       "910     g989     Propriva  Female          21      26          5   \n",
       "911     g989     Propriva  Female          21      26          5   \n",
       "912     g989     Propriva  Female          21      26         10   \n",
       "913     g989     Propriva  Female          21      26         10   \n",
       "914     g989     Propriva  Female          21      26         15   \n",
       "915     g989     Propriva  Female          21      26         15   \n",
       "916     g989     Propriva  Female          21      26         20   \n",
       "917     g989     Propriva  Female          21      26         20   \n",
       "918     g989     Propriva  Female          21      26         25   \n",
       "919     g989     Propriva  Female          21      26         30   \n",
       "920     g989     Propriva  Female          21      26         35   \n",
       "\n",
       "     tumor_volume  metastatic_sites  \n",
       "908        45.00%                 0  \n",
       "909        45.00%                 0  \n",
       "910        48.79%                 0  \n",
       "911        47.57%                 0  \n",
       "912        51.75%                 0  \n",
       "913        49.88%                 0  \n",
       "914        51.33%                 1  \n",
       "915        53.44%                 0  \n",
       "916        55.33%                 1  \n",
       "917        54.66%                 1  \n",
       "918        56.05%                 1  \n",
       "919        59.08%                 1  \n",
       "920        62.57%                 2  "
      ]
     },
     "execution_count": 109,
     "metadata": {},
     "output_type": "execute_result"
    }
   ],
   "source": [
    "# Optional: Get all the data for the duplicate mouse ID. \n",
    "g989_data = mouse_study_df.loc[mouse_study_df['mouse_id'] == \"g989\"]\n",
    "g989_data"
   ]
  },
  {
   "cell_type": "code",
   "execution_count": 110,
   "metadata": {},
   "outputs": [
    {
     "data": {
      "text/html": [
       "<div>\n",
       "<style scoped>\n",
       "    .dataframe tbody tr th:only-of-type {\n",
       "        vertical-align: middle;\n",
       "    }\n",
       "\n",
       "    .dataframe tbody tr th {\n",
       "        vertical-align: top;\n",
       "    }\n",
       "\n",
       "    .dataframe thead th {\n",
       "        text-align: right;\n",
       "    }\n",
       "</style>\n",
       "<table border=\"1\" class=\"dataframe\">\n",
       "  <thead>\n",
       "    <tr style=\"text-align: right;\">\n",
       "      <th></th>\n",
       "      <th>mouse_id</th>\n",
       "      <th>drug_regimen</th>\n",
       "      <th>Sex</th>\n",
       "      <th>Age_months</th>\n",
       "      <th>weight</th>\n",
       "      <th>Timepoint</th>\n",
       "      <th>tumor_volume</th>\n",
       "      <th>metastatic_sites</th>\n",
       "    </tr>\n",
       "  </thead>\n",
       "  <tbody>\n",
       "    <tr>\n",
       "      <th>0</th>\n",
       "      <td>k403</td>\n",
       "      <td>Ramicane</td>\n",
       "      <td>Male</td>\n",
       "      <td>21</td>\n",
       "      <td>16</td>\n",
       "      <td>0</td>\n",
       "      <td>45.00%</td>\n",
       "      <td>0</td>\n",
       "    </tr>\n",
       "    <tr>\n",
       "      <th>1</th>\n",
       "      <td>k403</td>\n",
       "      <td>Ramicane</td>\n",
       "      <td>Male</td>\n",
       "      <td>21</td>\n",
       "      <td>16</td>\n",
       "      <td>5</td>\n",
       "      <td>38.83%</td>\n",
       "      <td>0</td>\n",
       "    </tr>\n",
       "    <tr>\n",
       "      <th>2</th>\n",
       "      <td>k403</td>\n",
       "      <td>Ramicane</td>\n",
       "      <td>Male</td>\n",
       "      <td>21</td>\n",
       "      <td>16</td>\n",
       "      <td>10</td>\n",
       "      <td>35.01%</td>\n",
       "      <td>1</td>\n",
       "    </tr>\n",
       "    <tr>\n",
       "      <th>3</th>\n",
       "      <td>k403</td>\n",
       "      <td>Ramicane</td>\n",
       "      <td>Male</td>\n",
       "      <td>21</td>\n",
       "      <td>16</td>\n",
       "      <td>15</td>\n",
       "      <td>34.22%</td>\n",
       "      <td>1</td>\n",
       "    </tr>\n",
       "    <tr>\n",
       "      <th>4</th>\n",
       "      <td>k403</td>\n",
       "      <td>Ramicane</td>\n",
       "      <td>Male</td>\n",
       "      <td>21</td>\n",
       "      <td>16</td>\n",
       "      <td>20</td>\n",
       "      <td>33.00%</td>\n",
       "      <td>1</td>\n",
       "    </tr>\n",
       "    <tr>\n",
       "      <th>...</th>\n",
       "      <td>...</td>\n",
       "      <td>...</td>\n",
       "      <td>...</td>\n",
       "      <td>...</td>\n",
       "      <td>...</td>\n",
       "      <td>...</td>\n",
       "      <td>...</td>\n",
       "      <td>...</td>\n",
       "    </tr>\n",
       "    <tr>\n",
       "      <th>1888</th>\n",
       "      <td>z969</td>\n",
       "      <td>Naftisol</td>\n",
       "      <td>Male</td>\n",
       "      <td>9</td>\n",
       "      <td>30</td>\n",
       "      <td>25</td>\n",
       "      <td>63.15%</td>\n",
       "      <td>2</td>\n",
       "    </tr>\n",
       "    <tr>\n",
       "      <th>1889</th>\n",
       "      <td>z969</td>\n",
       "      <td>Naftisol</td>\n",
       "      <td>Male</td>\n",
       "      <td>9</td>\n",
       "      <td>30</td>\n",
       "      <td>30</td>\n",
       "      <td>65.84%</td>\n",
       "      <td>3</td>\n",
       "    </tr>\n",
       "    <tr>\n",
       "      <th>1890</th>\n",
       "      <td>z969</td>\n",
       "      <td>Naftisol</td>\n",
       "      <td>Male</td>\n",
       "      <td>9</td>\n",
       "      <td>30</td>\n",
       "      <td>35</td>\n",
       "      <td>69.18%</td>\n",
       "      <td>4</td>\n",
       "    </tr>\n",
       "    <tr>\n",
       "      <th>1891</th>\n",
       "      <td>z969</td>\n",
       "      <td>Naftisol</td>\n",
       "      <td>Male</td>\n",
       "      <td>9</td>\n",
       "      <td>30</td>\n",
       "      <td>40</td>\n",
       "      <td>70.31%</td>\n",
       "      <td>4</td>\n",
       "    </tr>\n",
       "    <tr>\n",
       "      <th>1892</th>\n",
       "      <td>z969</td>\n",
       "      <td>Naftisol</td>\n",
       "      <td>Male</td>\n",
       "      <td>9</td>\n",
       "      <td>30</td>\n",
       "      <td>45</td>\n",
       "      <td>73.87%</td>\n",
       "      <td>4</td>\n",
       "    </tr>\n",
       "  </tbody>\n",
       "</table>\n",
       "<p>1880 rows × 8 columns</p>\n",
       "</div>"
      ],
      "text/plain": [
       "     mouse_id drug_regimen   Sex  Age_months  weight  Timepoint  tumor_volume  \\\n",
       "0        k403     Ramicane  Male          21      16          0        45.00%   \n",
       "1        k403     Ramicane  Male          21      16          5        38.83%   \n",
       "2        k403     Ramicane  Male          21      16         10        35.01%   \n",
       "3        k403     Ramicane  Male          21      16         15        34.22%   \n",
       "4        k403     Ramicane  Male          21      16         20        33.00%   \n",
       "...       ...          ...   ...         ...     ...        ...           ...   \n",
       "1888     z969     Naftisol  Male           9      30         25        63.15%   \n",
       "1889     z969     Naftisol  Male           9      30         30        65.84%   \n",
       "1890     z969     Naftisol  Male           9      30         35        69.18%   \n",
       "1891     z969     Naftisol  Male           9      30         40        70.31%   \n",
       "1892     z969     Naftisol  Male           9      30         45        73.87%   \n",
       "\n",
       "      metastatic_sites  \n",
       "0                    0  \n",
       "1                    0  \n",
       "2                    1  \n",
       "3                    1  \n",
       "4                    1  \n",
       "...                ...  \n",
       "1888                 2  \n",
       "1889                 3  \n",
       "1890                 4  \n",
       "1891                 4  \n",
       "1892                 4  \n",
       "\n",
       "[1880 rows x 8 columns]"
      ]
     },
     "execution_count": 110,
     "metadata": {},
     "output_type": "execute_result"
    }
   ],
   "source": [
    "# Create a clean DataFrame by dropping the duplicate mouse by its ID.\n",
    "mouse_study_cleaned = mouse_study_df[mouse_study_df.mouse_id != \"g989\"]\n",
    "mouse_study_cleaned"
   ]
  },
  {
   "cell_type": "code",
   "execution_count": 111,
   "metadata": {},
   "outputs": [
    {
     "data": {
      "text/plain": [
       "248"
      ]
     },
     "execution_count": 111,
     "metadata": {},
     "output_type": "execute_result"
    }
   ],
   "source": [
    "# Checking the number of mice in the clean DataFrame.\n",
    "total_mice = len(mouse_study_cleaned.mouse_id.unique())\n",
    "total_mice"
   ]
  },
  {
   "cell_type": "markdown",
   "metadata": {},
   "source": [
    "## Summary Statistics"
   ]
  },
  {
   "cell_type": "code",
   "execution_count": 112,
   "metadata": {},
   "outputs": [
    {
     "data": {
      "text/html": [
       "<div>\n",
       "<style scoped>\n",
       "    .dataframe tbody tr th:only-of-type {\n",
       "        vertical-align: middle;\n",
       "    }\n",
       "\n",
       "    .dataframe tbody tr th {\n",
       "        vertical-align: top;\n",
       "    }\n",
       "\n",
       "    .dataframe thead th {\n",
       "        text-align: right;\n",
       "    }\n",
       "</style>\n",
       "<table border=\"1\" class=\"dataframe\">\n",
       "  <thead>\n",
       "    <tr style=\"text-align: right;\">\n",
       "      <th></th>\n",
       "      <th>Mean</th>\n",
       "      <th>Median</th>\n",
       "      <th>Variance</th>\n",
       "      <th>Standard Deviation</th>\n",
       "      <th>SEM</th>\n",
       "    </tr>\n",
       "    <tr>\n",
       "      <th>drug_regimen</th>\n",
       "      <th></th>\n",
       "      <th></th>\n",
       "      <th></th>\n",
       "      <th></th>\n",
       "      <th></th>\n",
       "    </tr>\n",
       "  </thead>\n",
       "  <tbody>\n",
       "    <tr>\n",
       "      <th>Capomulin</th>\n",
       "      <td>40.68%</td>\n",
       "      <td>41.56%</td>\n",
       "      <td>24.95%</td>\n",
       "      <td>4.99%</td>\n",
       "      <td>0.33%</td>\n",
       "    </tr>\n",
       "    <tr>\n",
       "      <th>Ceftamin</th>\n",
       "      <td>52.59%</td>\n",
       "      <td>51.78%</td>\n",
       "      <td>39.29%</td>\n",
       "      <td>6.27%</td>\n",
       "      <td>0.47%</td>\n",
       "    </tr>\n",
       "    <tr>\n",
       "      <th>Infubinol</th>\n",
       "      <td>52.88%</td>\n",
       "      <td>51.82%</td>\n",
       "      <td>43.13%</td>\n",
       "      <td>6.57%</td>\n",
       "      <td>0.49%</td>\n",
       "    </tr>\n",
       "    <tr>\n",
       "      <th>Ketapril</th>\n",
       "      <td>55.24%</td>\n",
       "      <td>53.70%</td>\n",
       "      <td>68.55%</td>\n",
       "      <td>8.28%</td>\n",
       "      <td>0.60%</td>\n",
       "    </tr>\n",
       "    <tr>\n",
       "      <th>Naftisol</th>\n",
       "      <td>54.33%</td>\n",
       "      <td>52.51%</td>\n",
       "      <td>66.17%</td>\n",
       "      <td>8.13%</td>\n",
       "      <td>0.60%</td>\n",
       "    </tr>\n",
       "    <tr>\n",
       "      <th>Placebo</th>\n",
       "      <td>54.03%</td>\n",
       "      <td>52.29%</td>\n",
       "      <td>61.17%</td>\n",
       "      <td>7.82%</td>\n",
       "      <td>0.58%</td>\n",
       "    </tr>\n",
       "    <tr>\n",
       "      <th>Propriva</th>\n",
       "      <td>52.32%</td>\n",
       "      <td>50.45%</td>\n",
       "      <td>43.85%</td>\n",
       "      <td>6.62%</td>\n",
       "      <td>0.54%</td>\n",
       "    </tr>\n",
       "    <tr>\n",
       "      <th>Ramicane</th>\n",
       "      <td>40.22%</td>\n",
       "      <td>40.67%</td>\n",
       "      <td>23.49%</td>\n",
       "      <td>4.85%</td>\n",
       "      <td>0.32%</td>\n",
       "    </tr>\n",
       "    <tr>\n",
       "      <th>Stelasyn</th>\n",
       "      <td>54.23%</td>\n",
       "      <td>52.43%</td>\n",
       "      <td>59.45%</td>\n",
       "      <td>7.71%</td>\n",
       "      <td>0.57%</td>\n",
       "    </tr>\n",
       "    <tr>\n",
       "      <th>Zoniferol</th>\n",
       "      <td>53.24%</td>\n",
       "      <td>51.82%</td>\n",
       "      <td>48.53%</td>\n",
       "      <td>6.97%</td>\n",
       "      <td>0.52%</td>\n",
       "    </tr>\n",
       "  </tbody>\n",
       "</table>\n",
       "</div>"
      ],
      "text/plain": [
       "               Mean  Median  Variance  Standard Deviation   SEM\n",
       "drug_regimen                                                   \n",
       "Capomulin    40.68%  41.56%    24.95%               4.99% 0.33%\n",
       "Ceftamin     52.59%  51.78%    39.29%               6.27% 0.47%\n",
       "Infubinol    52.88%  51.82%    43.13%               6.57% 0.49%\n",
       "Ketapril     55.24%  53.70%    68.55%               8.28% 0.60%\n",
       "Naftisol     54.33%  52.51%    66.17%               8.13% 0.60%\n",
       "Placebo      54.03%  52.29%    61.17%               7.82% 0.58%\n",
       "Propriva     52.32%  50.45%    43.85%               6.62% 0.54%\n",
       "Ramicane     40.22%  40.67%    23.49%               4.85% 0.32%\n",
       "Stelasyn     54.23%  52.43%    59.45%               7.71% 0.57%\n",
       "Zoniferol    53.24%  51.82%    48.53%               6.97% 0.52%"
      ]
     },
     "execution_count": 112,
     "metadata": {},
     "output_type": "execute_result"
    }
   ],
   "source": [
    "# Generate a summary statistics table of mean, median, variance, standard deviation, and SEM of the tumor volume for each regimen\n",
    "# This method is the most straighforward, creating multiple series and putting them all together at the end.\n",
    "\n",
    "# Calculate mean\n",
    "drug_regimen_mean = mouse_study_cleaned.groupby('drug_regimen').mean()[\"tumor_volume\"]\n",
    "# Calculate median\n",
    "drug_regimen_median = mouse_study_cleaned.groupby('drug_regimen').median()[\"tumor_volume\"]\n",
    "# Calculate variance\n",
    "drug_regimen_variance = mouse_study_cleaned.groupby('drug_regimen').var()[\"tumor_volume\"]\n",
    "# Calculate standard deviation\n",
    "drug_regimen_std = mouse_study_cleaned.groupby('drug_regimen').std()[\"tumor_volume\"]\n",
    "#Calculate SEM\n",
    "drug_regimen_sem = mouse_study_cleaned.groupby('drug_regimen').sem()[\"tumor_volume\"]\n",
    "\n",
    "regimen_tumor_volume = pd.DataFrame({\"Mean\": drug_regimen_mean, \"Median\": drug_regimen_median, \"Variance\": drug_regimen_variance, \"Standard Deviation\": drug_regimen_std, \"SEM\":drug_regimen_sem})\n",
    "regimen_tumor_volume"
   ]
  },
  {
   "cell_type": "markdown",
   "metadata": {},
   "source": [
    "## Bar and Pie Charts"
   ]
  },
  {
   "cell_type": "code",
   "execution_count": 114,
   "metadata": {},
   "outputs": [
    {
     "data": {
      "image/png": "[encoded data removed]",
      "text/plain": [
       "<Figure size 432x288 with 1 Axes>"
      ]
     },
     "metadata": {
      "needs_background": "light"
     },
     "output_type": "display_data"
    }
   ],
   "source": [
    "# Generate a bar plot showing the total number of mice for each treatment throughout the course of the study using pandas. \n",
    "\n",
    "mice_per_drug_regimen = mouse_study_cleaned.groupby([\"drug_regimen\"]).count()[\"mouse_id\"].sort_index()\n",
    "\n",
    "mice_per_drug_regimen.plot.bar(color='b', rot=45, alpha=0.5, align=\"center\")\n",
    "plt.xlabel(\"Drug Regimen\")\n",
    "plt.ylabel(\"Number of Mice\")\n",
    "plt.title(\"Total Number of Mice Per Treatment\",fontsize = 14)\n",
    "plt.xlim(-0.5, 8.5)\n",
    "plt.ylim(0, 240)\n",
    "\n",
    "plt.savefig(\"charts/Total_Mice_per_Drug_Regimen_Pandas.png\", bbox_inches='tight')\n",
    "plt.show()\n"
   ]
  },
  {
   "cell_type": "code",
   "execution_count": 115,
   "metadata": {},
   "outputs": [
    {
     "data": {
      "image/png": "[encoded data removed]",
      "text/plain": [
       "<Figure size 432x288 with 1 Axes>"
      ]
     },
     "metadata": {
      "needs_background": "light"
     },
     "output_type": "display_data"
    }
   ],
   "source": [
    "# Generate a bar plot showing the total number of mice for each treatment throughout the course of the study using pyplot.\n",
    "mice_count = mouse_study_cleaned.groupby([\"drug_regimen\"]).count()[\"mouse_id\"].tolist()\n",
    "drug_regiment_list = np.arange(len(mice_per_drug_regimen))\n",
    "\n",
    "tick_locations = [value for value in drug_regiment_list]\n",
    "\n",
    "plt.xticks(tick_locations, ['Capomulin', 'Ceftamin', 'Infubinol', 'Ketapril', 'Naftisol', 'Placebo', 'Propriva', 'Ramicane', 'Stelasyn', 'Zoniferol'],  rotation=45)\n",
    "\n",
    "plt.bar(drug_regiment_list, mice_count, color='b', alpha=0.5, align=\"center\")\n",
    "plt.xlabel(\"Drug Regimen\")\n",
    "plt.ylabel(\"Number of Mice\")\n",
    "plt.title(\"Total Number of Mice Per Treatment\",fontsize = 14)\n",
    "plt.xlim(-0.75, len(drug_regiment_list)-0.25)\n",
    "plt.ylim(0, max(mice_count)+15)\n",
    "\n",
    "plt.savefig(\"charts/Total_Mice_per_Drug_Regimen_Pyplot.png\", bbox_inches='tight')\n",
    "plt.show()"
   ]
  },
  {
   "cell_type": "code",
   "execution_count": 33,
   "metadata": {},
   "outputs": [
    {
     "data": {
      "image/png": "[encoded data removed]",
      "text/plain": [
       "<Figure size 432x288 with 1 Axes>"
      ]
     },
     "metadata": {},
     "output_type": "display_data"
    }
   ],
   "source": [
    "# Generate a pie plot showing the distribution of female versus male mice using pandas\n",
    "#mice_gender_groups = mouse_study_cleaned.groupby([\"Sex\"]).count()\n",
    "#mice_gender_groups\n",
    "\n",
    "# Drop duplicates by mouse ID\n",
    "mouse_study_cleaned_no_dupes = mouse_study_cleaned.drop_duplicates(\"mouse_id\")\n",
    "\n",
    "# Count number of each gender and set column name to Total Count\n",
    "mice_gender_groups = mouse_study_cleaned_no_dupes[\"Sex\"].value_counts().reset_index(name='Total Count')\n",
    "\n",
    "# Calculate percentage by dividing gender counts and total players\n",
    "mice_gender_groups[\"Percentage of Gender\"] = (mice_gender_groups[\"Total Count\"] / total_mice) * 100\n",
    "\n",
    "# Rename index to Gender\n",
    "mice_gender_groups = mice_gender_groups.rename(columns={\"index\":\"Sex\"}).set_index(\"Sex\")\n",
    "pd.options.display.float_format = '{:,.2f}%'.format\n",
    "\n",
    "mice_gender_groups.plot.pie(y='Total Count', colors = ['royalblue', 'lightgreen'], startangle=140, shadow = True, autopct=\"%1.1f%%\")\n",
    "plt.title('Male vs Female Mouse Population', fontsize = 14)\n",
    "plt.axis(\"equal\")\n",
    "\n",
    "plt.savefig(\"charts/Mouse_Gender_Distribution_Pandas.png\", bbox_inches = \"tight\")\n",
    "plt.show()"
   ]
  },
  {
   "cell_type": "code",
   "execution_count": 30,
   "metadata": {},
   "outputs": [
    {
     "data": {
      "image/png": "[encoded data removed]",
      "text/plain": [
       "<Figure size 432x288 with 1 Axes>"
      ]
     },
     "metadata": {},
     "output_type": "display_data"
    }
   ],
   "source": [
    "mice_gender_count = mice_gender_groups[\"Percentage of Gender\"].tolist()\n",
    "mice_gender_count\n",
    "\n",
    "# Generate a pie plot showing the distribution of female versus male mice using pyplot\n",
    "plt.pie(mice_gender_count, colors = ['royalblue', 'lightgreen'], labels=['Male','Female'], startangle=140, shadow = True, autopct=\"%1.1f%%\")\n",
    "plt.title('Male vs Female Mouse Population', fontsize = 14)\n",
    "plt.axis(\"equal\")\n",
    "plt.legend(('Male', 'Female'))\n",
    "\n",
    "plt.savefig(\"charts/Mouse_Gender_Distribution_Pyplot.png\", bbox_inches = \"tight\")\n",
    "plt.show()"
   ]
  },
  {
   "cell_type": "markdown",
   "metadata": {},
   "source": [
    "## Quartiles, Outliers and Boxplots"
   ]
  },
  {
   "cell_type": "code",
   "execution_count": 47,
   "metadata": {},
   "outputs": [],
   "source": [
    "# Calculate the final tumor volume of each mouse across four of the treatment regimens:  \n",
    "# Capomulin, Ramicane, Infubinol, and Ceftamin\n",
    "Capomulin_df = mouse_study_df.loc[mouse_study_df[\"drug_regimen\"] == \"Capomulin\",:]\n",
    "Ramicane_df = mouse_study_df.loc[mouse_study_df[\"drug_regimen\"] == \"Ramicane\", :]\n",
    "Infubinol_df = mouse_study_df.loc[mouse_study_df[\"drug_regimen\"] == \"Infubinol\", :]\n",
    "Ceftamin_df = mouse_study_df.loc[mouse_study_df[\"drug_regimen\"] == \"Ceftamin\", :]\n",
    "\n",
    "# Start by getting the last (greatest) timepoint for each mouse\n",
    "Capomulin_last_timepoint = Capomulin_df.groupby('mouse_id').max()['Timepoint']\n",
    "Ramicane_last_timepoint = Ramicane_df.groupby('mouse_id').max()['Timepoint']\n",
    "Infubinol_last_timepoint = Infubinol_df.groupby('mouse_id').max()['Timepoint']\n",
    "Ceftamin_last_timepoint = Ceftamin_df.groupby('mouse_id').max()['Timepoint']\n",
    "\n",
    "# Merge this group df with the original dataframe to get the tumor volume at the last timepoint\n",
    "Capomulin_merged = pd.merge(Capomulin_last_timepoint, mouse_study_df, on=(\"mouse_id\",\"Timepoint\"), how=\"left\")\n",
    "Ramicane_merged = pd.merge(Ramicane_last_timepoint, mouse_study_df, on=(\"mouse_id\",\"Timepoint\"), how=\"left\")\n",
    "Infubinol_merged = pd.merge(Infubinol_last_timepoint, mouse_study_df, on=(\"mouse_id\",\"Timepoint\"), how=\"left\")\n",
    "Ceftamin_merged = pd.merge(Ceftamin_last_timepoint, mouse_study_df, on=(\"mouse_id\",\"Timepoint\"), how=\"left\")"
   ]
  },
  {
   "cell_type": "code",
   "execution_count": 50,
   "metadata": {},
   "outputs": [
    {
     "name": "stdout",
     "output_type": "stream",
     "text": [
      "The lower quartile of Capomulin_tumor_volume is: 32.37735684\n",
      "The upper quartile of Capomulin_tumor_volume is: 40.1592203\n",
      "The interquartile range of Capomulin_tumor_volume is: 7.781863460000004\n",
      "The the median of Capomulin_tumor_volume is: 38.125164399999996 \n",
      "Capomulin_tumor_volume Values below 20.70456164999999 could be outliers.\n",
      "Capomulin_tumor_volume Values above 51.83201549 could be outliers.\n"
     ]
    }
   ],
   "source": [
    "# Calculate the IQR and quantitatively determine if there are any potential outliers. \n",
    "Capomulin_tumor_volume = Capomulin_merged[\"tumor_volume\"]\n",
    "\n",
    "quartiles = Capomulin_tumor_volume.quantile([.25,.5,.75])\n",
    "lowerq = quartiles[0.25]\n",
    "upperq = quartiles[0.75]\n",
    "iqr = upperq-lowerq\n",
    "\n",
    "print(f\"The lower quartile of Capomulin_tumor_volume is: {lowerq}\")\n",
    "print(f\"The upper quartile of Capomulin_tumor_volume is: {upperq}\")\n",
    "print(f\"The interquartile range of Capomulin_tumor_volume is: {iqr}\")\n",
    "print(f\"The the median of Capomulin_tumor_volume is: {quartiles[0.5]} \")\n",
    "\n",
    "lower_bound = lowerq - (1.5*iqr)\n",
    "upper_bound = upperq + (1.5*iqr)\n",
    "print(f\"Capomulin_tumor_volume Values below {lower_bound} could be outliers.\")\n",
    "print(f\"Capomulin_tumor_volume Values above {upper_bound} could be outliers.\")"
   ]
  },
  {
   "cell_type": "code",
   "execution_count": 52,
   "metadata": {},
   "outputs": [
    {
     "name": "stdout",
     "output_type": "stream",
     "text": [
      "The lower quartile of Ramicane_tumor_volume is: 31.56046955\n",
      "The upper quartile of Ramicane_tumor_volume is: 40.65900627\n",
      "The interquartile range of Ramicane_tumor_volume is: 9.098536719999998\n",
      "The the median of Ramicane_tumor_volume is: 36.56165229 \n",
      "Ramicane_tumor_volume Values below 17.912664470000003 could be outliers.\n",
      "Ramicane_tumor_volume Values above 54.30681135 could be outliers.\n"
     ]
    }
   ],
   "source": [
    "# Calculate the IQR and quantitatively determine if there are any potential outliers. \n",
    "Ramicane_tumor_volume = Ramicane_merged[\"tumor_volume\"]\n",
    "\n",
    "quartiles = Ramicane_tumor_volume.quantile([.25,.5,.75])\n",
    "lowerq = quartiles[0.25]\n",
    "upperq = quartiles[0.75]\n",
    "iqr = upperq-lowerq\n",
    "\n",
    "print(f\"The lower quartile of Ramicane_tumor_volume is: {lowerq}\")\n",
    "print(f\"The upper quartile of Ramicane_tumor_volume is: {upperq}\")\n",
    "print(f\"The interquartile range of Ramicane_tumor_volume is: {iqr}\")\n",
    "print(f\"The the median of Ramicane_tumor_volume is: {quartiles[0.5]} \")\n",
    "\n",
    "lower_bound = lowerq - (1.5*iqr)\n",
    "upper_bound = upperq + (1.5*iqr)\n",
    "print(f\"Ramicane_tumor_volume Values below {lower_bound} could be outliers.\")\n",
    "print(f\"Ramicane_tumor_volume Values above {upper_bound} could be outliers.\")"
   ]
  },
  {
   "cell_type": "code",
   "execution_count": 53,
   "metadata": {},
   "outputs": [
    {
     "name": "stdout",
     "output_type": "stream",
     "text": [
      "The lower quartile of Infubinol_tumor_volume is: 54.04860769\n",
      "The upper quartile of Infubinol_tumor_volume is: 65.52574285\n",
      "The interquartile range of Infubinol_tumor_volume is: 11.477135160000003\n",
      "The the median of Infubinol_tumor_volume is: 60.16518046 \n",
      "Infubinol_tumor_volume Values below 36.83290494999999 could be outliers.\n",
      "Infubinol_tumor_volume Values above 82.74144559000001 could be outliers.\n"
     ]
    }
   ],
   "source": [
    "# Calculate the IQR and quantitatively determine if there are any potential outliers. \n",
    "Infubinol_tumor_volume = Infubinol_merged[\"tumor_volume\"]\n",
    "\n",
    "quartiles = Infubinol_tumor_volume.quantile([.25,.5,.75])\n",
    "lowerq = quartiles[0.25]\n",
    "upperq = quartiles[0.75]\n",
    "iqr = upperq-lowerq\n",
    "\n",
    "print(f\"The lower quartile of Infubinol_tumor_volume is: {lowerq}\")\n",
    "print(f\"The upper quartile of Infubinol_tumor_volume is: {upperq}\")\n",
    "print(f\"The interquartile range of Infubinol_tumor_volume is: {iqr}\")\n",
    "print(f\"The the median of Infubinol_tumor_volume is: {quartiles[0.5]} \")\n",
    "\n",
    "lower_bound = lowerq - (1.5*iqr)\n",
    "upper_bound = upperq + (1.5*iqr)\n",
    "print(f\"Infubinol_tumor_volume Values below {lower_bound} could be outliers.\")\n",
    "print(f\"Infubinol_tumor_volume Values above {upper_bound} could be outliers.\")"
   ]
  },
  {
   "cell_type": "code",
   "execution_count": 55,
   "metadata": {},
   "outputs": [
    {
     "name": "stdout",
     "output_type": "stream",
     "text": [
      "The lower quartile of Ceftamin_tumor_volume is: 48.72207785\n",
      "The upper quartile of Ceftamin_tumor_volume is: 64.29983003\n",
      "The interquartile range of Ceftamin_tumor_volume is: 15.577752179999997\n",
      "The the median of Ceftamin_tumor_volume is: 59.85195552 \n",
      "Ceftamin_tumor_volume Values below 25.355449580000002 could be outliers.\n",
      "Ceftamin_tumor_volume Values above 87.66645829999999 could be outliers.\n"
     ]
    }
   ],
   "source": [
    "# Calculate the IQR and quantitatively determine if there are any potential outliers. \n",
    "Ceftamin_tumor_volume = Ceftamin_merged[\"tumor_volume\"]\n",
    "\n",
    "quartiles = Ceftamin_tumor_volume.quantile([.25,.5,.75])\n",
    "lowerq = quartiles[0.25]\n",
    "upperq = quartiles[0.75]\n",
    "iqr = upperq-lowerq\n",
    "\n",
    "print(f\"The lower quartile of Ceftamin_tumor_volume is: {lowerq}\")\n",
    "print(f\"The upper quartile of Ceftamin_tumor_volume is: {upperq}\")\n",
    "print(f\"The interquartile range of Ceftamin_tumor_volume is: {iqr}\")\n",
    "print(f\"The the median of Ceftamin_tumor_volume is: {quartiles[0.5]} \")\n",
    "\n",
    "lower_bound = lowerq - (1.5*iqr)\n",
    "upper_bound = upperq + (1.5*iqr)\n",
    "print(f\"Ceftamin_tumor_volume Values below {lower_bound} could be outliers.\")\n",
    "print(f\"Ceftamin_tumor_volume Values above {upper_bound} could be outliers.\")"
   ]
  },
  {
   "cell_type": "code",
   "execution_count": 63,
   "metadata": {},
   "outputs": [
    {
     "data": {
      "image/png": "[encoded data removed]",
      "text/plain": [
       "<Figure size 432x288 with 1 Axes>"
      ]
     },
     "metadata": {
      "needs_background": "light"
     },
     "output_type": "display_data"
    }
   ],
   "source": [
    "# Generate a box plot of the final tumor volume of each mouse across four regimens of interest\n",
    "box_plot_data = [Capomulin_tumor_volume, Ramicane_tumor_volume, Infubinol_tumor_volume, Ceftamin_tumor_volume]\n",
    "\n",
    "plt.boxplot(box_plot_data,patch_artist=True,labels=['Capomulin', 'Ramicane', 'Infubinol','Ceftamin'])\n",
    "plt.xlabel(\"Drug Regimen\")\n",
    "plt.ylabel(\"Tumor Volume (mm3)\")\n",
    "plt.title(\"Final Tumor Volumes of Mice by Drug Regimen\",fontsize = 14)\n",
    "plt.savefig(\"charts/Tumor_Volume_Box_Plot.png\", bbox_inches = \"tight\")\n",
    "plt.show()\n"
   ]
  },
  {
   "cell_type": "markdown",
   "metadata": {},
   "source": [
    "## Line and Scatter Plots"
   ]
  },
  {
   "cell_type": "code",
   "execution_count": 84,
   "metadata": {},
   "outputs": [
    {
     "data": {
      "image/png": "[encoded data removed]",
      "text/plain": [
       "<Figure size 432x288 with 1 Axes>"
      ]
     },
     "metadata": {
      "needs_background": "light"
     },
     "output_type": "display_data"
    }
   ],
   "source": [
    "# Generate a line plot of time point versus tumor volume for a mouse treated with Capomulin\n",
    "Capomulin_line_plot = Capomulin_df.loc[Capomulin_df[\"mouse_id\"] == \"i557\",:]\n",
    "#Capomulin_line_plot.head()\n",
    "\n",
    "x_line_axis = Capomulin_line_plot[\"Timepoint\"]\n",
    "y_line_axis = Capomulin_line_plot[\"tumor_volume\"]\n",
    "\n",
    "plt.plot(x_line_axis, y_line_axis, linewidth=1, marker=\"o\", color=\"blue\")\n",
    "plt.xlabel(\"Timepoint\")\n",
    "plt.ylabel(\"Tumor Volume (mm3)\")\n",
    "plt.title(\"Mouse i557 Tumor Progression with Capomulin\",fontsize = 14)\n",
    "plt.savefig(\"charts/Mouse_Tumor_Progression.png\", bbox_inches = \"tight\")\n",
    "plt.show()"
   ]
  },
  {
   "cell_type": "code",
   "execution_count": 85,
   "metadata": {},
   "outputs": [
    {
     "data": {
      "image/png": "[encoded data removed]",
      "text/plain": [
       "<Figure size 432x288 with 1 Axes>"
      ]
     },
     "metadata": {
      "needs_background": "light"
     },
     "output_type": "display_data"
    }
   ],
   "source": [
    "# Generate a scatter plot of mouse weight versus average tumor volume for the Capomulin regimen\n",
    "Capomulin_avg = Capomulin_df.groupby(['mouse_id']).mean()\n",
    "\n",
    "x_scatter_axis = Capomulin_avg[\"weight\"]\n",
    "y_scatter_axis = Capomulin_avg['tumor_volume']\n",
    "\n",
    "plt.scatter(x_scatter_axis, y_scatter_axis, marker=\"o\", facecolors=\"red\", edgecolors=\"black\", s=x_scatter_axis, alpha=0.75)\n",
    "plt.xlabel(\"Weight\")\n",
    "plt.ylabel(\"Tumor Volume (mm3)\")\n",
    "plt.title(\"Mouse Weight vs Tumor Volume with Capomulin\",fontsize = 14)\n",
    "plt.savefig(\"charts/Mouse_Weight_vs_Tumor_Volume.png\", bbox_inches = \"tight\")\n",
    "plt.show()\n",
    "\n",
    "\n"
   ]
  },
  {
   "cell_type": "markdown",
   "metadata": {},
   "source": [
    "## Correlation and Regression"
   ]
  },
  {
   "cell_type": "code",
   "execution_count": 105,
   "metadata": {},
   "outputs": [
    {
     "name": "stdout",
     "output_type": "stream",
     "text": [
      "The correlation between weight and average tumor volume with Capomulin is 0.84\n"
     ]
    },
    {
     "data": {
      "image/png": "[encoded data removed]",
      "text/plain": [
       "<Figure size 432x288 with 1 Axes>"
      ]
     },
     "metadata": {
      "needs_background": "light"
     },
     "output_type": "display_data"
    }
   ],
   "source": [
    "# for mouse weight and average tumor volume for the Capomulin regimen\n",
    "# Calculate the correlation coefficient  \n",
    "\n",
    "correlation = st.pearsonr(x_scatter_axis,y_scatter_axis)\n",
    "print(f\"The correlation between weight and average tumor volume with Capomulin is {round(correlation[0],2)}\")\n",
    "\n",
    "# Calculate the linear regression model \n",
    "(slope, intercept, rvalue, pvalue, stderr) = linregress(x_scatter_axis, y_scatter_axis)\n",
    "regress_values = x_scatter_axis * slope + intercept\n",
    "\n",
    "line_eq = \"y = \" + str(round(slope,2)) + \"x + \" + str(round(intercept,2))\n",
    "\n",
    "plt.scatter(x_scatter_axis, y_scatter_axis, marker=\"o\", facecolors=\"blue\", edgecolors=\"black\", s=x_scatter_axis, alpha=0.75)\n",
    "plt.plot(x_scatter_axis,regress_values,\"r-\")\n",
    "plt.annotate(line_eq,xy=(17, 43),fontsize=15,color=\"red\")\n",
    "plt.xlabel(\"Weight\")\n",
    "plt.ylabel(\"Tumor Volume (mm3)\")\n",
    "plt.title(\"Mouse Weight vs Tumor Volume with Capomulin\",fontsize = 14)\n",
    "plt.savefig(\"charts/Mouse_Weight_vs_Tumor_Volume.png\", bbox_inches = \"tight\")\n",
    "plt.show()"
   ]
  },
  {
   "cell_type": "code",
   "execution_count": null,
   "metadata": {},
   "outputs": [],
   "source": []
  }
 ],
 "metadata": {
  "anaconda-cloud": {},
  "kernelspec": {
   "display_name": "Python 3",
   "language": "python",
   "name": "python3"
  },
  "language_info": {
   "codemirror_mode": {
    "name": "ipython",
    "version": 3
   },
   "file_extension": ".py",
   "mimetype": "text/x-python",
   "name": "python",
   "nbconvert_exporter": "python",
   "pygments_lexer": "ipython3",
   "version": "3.7.6"
  }
 },
 "nbformat": 4,
 "nbformat_minor": 2
}
